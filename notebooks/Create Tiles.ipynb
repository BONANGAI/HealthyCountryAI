{
 "cells": [
  {
   "cell_type": "code",
   "execution_count": 7,
   "metadata": {
    "scrolled": true
   },
   "outputs": [
    {
     "name": "stdout",
     "output_type": "stream",
     "text": [
      "C:\\Source\\CSIRO\\HealthyHabitatAI\\.env\n",
      "healthyhabitatsvb\n",
      "0crB6HIwJxefIX/Op19ZVLepgE41jCp/SYTnlBGpPBB0To9Jrpf37pLvWX/eMhNyIVM8JxBC+n94IQOH1Cf9/g==\n",
      "processed\n",
      "190ee425b5d9441f916dfbc6246fc631\n",
      "bf6bff18-3b51-4b2d-ba40-78b4d2e9d7cf\n",
      "b8b9b6ca-5dd5-42ac-a2f1-70dd5dd24de9\n"
     ]
    }
   ],
   "source": [
    "%run Common.ipynb"
   ]
  },
  {
   "cell_type": "code",
   "execution_count": 8,
   "metadata": {
    "scrolled": true
   },
   "outputs": [],
   "source": [
    "import numpy as np\n",
    "import matplotlib.pyplot as plt\n",
    "\n",
    "from azure.cognitiveservices.vision.customvision.training import CustomVisionTrainingClient\n",
    "from azure.cognitiveservices.vision.customvision.training.models import ImageFileCreateEntry\n",
    "from PIL import Image"
   ]
  },
  {
   "cell_type": "code",
   "execution_count": 9,
   "metadata": {
    "scrolled": true
   },
   "outputs": [],
   "source": [
    "%matplotlib inline"
   ]
  },
  {
   "cell_type": "code",
   "execution_count": 10,
   "metadata": {},
   "outputs": [],
   "source": [
    "Image.MAX_IMAGE_PIXELS = None"
   ]
  },
  {
   "cell_type": "markdown",
   "metadata": {},
   "source": [
    "### Custom Vision"
   ]
  },
  {
   "cell_type": "code",
   "execution_count": 11,
   "metadata": {
    "scrolled": true
   },
   "outputs": [],
   "source": [
    "ENDPOINT = 'https://australiaeast.api.cognitive.microsoft.com/'\n",
    "\n",
    "trainer = CustomVisionTrainingClient(custom_vision_training_key, endpoint=ENDPOINT)\n",
    "\n",
    "projects = trainer.get_projects()"
   ]
  },
  {
   "cell_type": "code",
   "execution_count": 12,
   "metadata": {},
   "outputs": [
    {
     "name": "stdout",
     "output_type": "stream",
     "text": [
      "b8b9b6ca-5dd5-42ac-a2f1-70dd5dd24de9\n",
      "SvBObjectDetectionDemo\n",
      "bf6bff18-3b51-4b2d-ba40-78b4d2e9d7cf\n",
      "SvBClassificationDemo\n",
      "d486111a-2528-4e20-995d-e393ee136937\n",
      "KakaduFishAI\n",
      "92f89ec8-2869-45f3-9735-a423dfbd9de5\n",
      "WildPigAI\n",
      "d87ec242-1fc1-4f1a-9980-6833a06c8f4e\n",
      "PrawnAI\n",
      "60af9410-78b3-4ac5-bf5a-4995df108df5\n",
      "ViaToCustomVision.ai\n",
      "671a7fcf-09fd-4630-b17f-f3f9fba01424\n",
      "cannonhill-wurrkeng-animals\n",
      "8e325309-2e18-487c-903a-747936fe6b73\n",
      "cannonhill-wurrkeng-parragrass\n",
      "a98d1349-1493-4ace-86eb-38f33105d5fc\n",
      "ubir-kunumeleng-animals\n",
      "7fd39d75-f8eb-4778-b0c0-37a08b551e99\n",
      "ubir-wurrkeng-animals\n",
      "ee5572be-f570-4574-81ec-ea5840d208c4\n",
      "ubir-wurrkeng-parragrass\n",
      "39ce5e4d-67d3-4fc3-9e61-2a5146a3d8f4\n",
      "ubir-kunumeleng-parragrass\n",
      "a5468b90-f94c-4ae9-ad4e-67a6fd7a8dbb\n",
      "ubir-bangkerreng-animals\n",
      "187f3abf-b4a6-47a3-b126-a53e14728bbc\n",
      "ubir-bangkerreng-parragrass\n",
      "8ea774dc-23d5-4f9a-8202-a1f113458634\n",
      "ubir-kurrung-animals\n",
      "3a4ca06f-a406-44a7-8079-cdf1a1ca3ec6\n",
      "ubir-kurrung-parragrass\n",
      "2bdf0488-e15e-4b88-b5ff-c6c851dbfeb9\n",
      "ubir-kudjewk-animals\n",
      "083fe19d-e3ab-4ab4-82ac-9718f537db3f\n",
      "ubir-kudjewk-parragrass\n"
     ]
    }
   ],
   "source": [
    "for project in projects:\n",
    "    print(project.id)\n",
    "    print(project.name)"
   ]
  },
  {
   "cell_type": "markdown",
   "metadata": {},
   "source": [
    "### Blob Storage"
   ]
  },
  {
   "cell_type": "code",
   "execution_count": 13,
   "metadata": {},
   "outputs": [
    {
     "name": "stdout",
     "output_type": "stream",
     "text": [
      "azure-webjobs-hosts\n",
      "azure-webjobs-secrets\n",
      "cannonhill-bangkerreng\n",
      "cannonhill-kunumeleng\n",
      "cannonhill-wurrkeng\n",
      "jabirudreaming-bangkerreng\n",
      "jabirudreaming-kunumeleng\n",
      "jabirudreaming-wurrkeng\n",
      "raw\n",
      "resized\n",
      "scm-releases\n",
      "site-season\n",
      "ubir-bangkerreng\n",
      "ubir-kunumeleng\n",
      "ubir-wurrkeng\n"
     ]
    }
   ],
   "source": [
    "containers = blob_service_list_containers(healthy_habitat_ai_storage_account_name, healthy_habitat_ai_storage_account_key)\n",
    "\n",
    "for container_name in containers:\n",
    "    print(container_name)"
   ]
  },
  {
   "cell_type": "markdown",
   "metadata": {},
   "source": [
    "### Create regions"
   ]
  },
  {
   "cell_type": "code",
   "execution_count": 14,
   "metadata": {
    "scrolled": true
   },
   "outputs": [
    {
     "name": "stdout",
     "output_type": "stream",
     "text": [
      "Processing 2019-11-05-1100/Orthomosaic.geo.tif\n"
     ]
    },
    {
     "ename": "OSError",
     "evalue": "cannot identify image file 'C:\\\\Source\\\\CSIRO\\\\HealthyHabitatAI\\\\data\\\\interim\\\\site-season\\\\2019-11-05-1100\\\\Orthomosaic.geo.tif'",
     "output_type": "error",
     "traceback": [
      "\u001b[1;31m---------------------------------------------------------------------------\u001b[0m",
      "\u001b[1;31mOSError\u001b[0m                                   Traceback (most recent call last)",
      "\u001b[1;32m<ipython-input-14-24e40fc78dbb>\u001b[0m in \u001b[0;36m<module>\u001b[1;34m\u001b[0m\n\u001b[0;32m     27\u001b[0m                     \u001b[0mblob_service_get_blob_to_path\u001b[0m\u001b[1;33m(\u001b[0m\u001b[0mhealthy_habitat_ai_storage_account_name\u001b[0m\u001b[1;33m,\u001b[0m \u001b[0mhealthy_habitat_ai_storage_account_key\u001b[0m\u001b[1;33m,\u001b[0m \u001b[0mcontainer_name\u001b[0m\u001b[1;33m,\u001b[0m \u001b[0mblob_name\u001b[0m\u001b[1;33m,\u001b[0m \u001b[0mfile_path\u001b[0m\u001b[1;33m)\u001b[0m\u001b[1;33m\u001b[0m\u001b[0m\n\u001b[0;32m     28\u001b[0m \u001b[1;33m\u001b[0m\u001b[0m\n\u001b[1;32m---> 29\u001b[1;33m                 \u001b[0mimage\u001b[0m \u001b[1;33m=\u001b[0m \u001b[0mnp\u001b[0m\u001b[1;33m.\u001b[0m\u001b[0marray\u001b[0m\u001b[1;33m(\u001b[0m\u001b[0mImage\u001b[0m\u001b[1;33m.\u001b[0m\u001b[0mopen\u001b[0m\u001b[1;33m(\u001b[0m\u001b[0mfile_path\u001b[0m\u001b[1;33m)\u001b[0m\u001b[1;33m)\u001b[0m\u001b[1;33m\u001b[0m\u001b[0m\n\u001b[0m\u001b[0;32m     30\u001b[0m                 \u001b[0mimage_shape\u001b[0m \u001b[1;33m=\u001b[0m \u001b[0mimage\u001b[0m\u001b[1;33m.\u001b[0m\u001b[0mshape\u001b[0m\u001b[1;33m\u001b[0m\u001b[0m\n\u001b[0;32m     31\u001b[0m \u001b[1;33m\u001b[0m\u001b[0m\n",
      "\u001b[1;32m~\\.conda\\envs\\HealthyHabitat\\lib\\site-packages\\PIL\\Image.py\u001b[0m in \u001b[0;36mopen\u001b[1;34m(fp, mode)\u001b[0m\n\u001b[0;32m   2820\u001b[0m     \u001b[1;32mfor\u001b[0m \u001b[0mmessage\u001b[0m \u001b[1;32min\u001b[0m \u001b[0maccept_warnings\u001b[0m\u001b[1;33m:\u001b[0m\u001b[1;33m\u001b[0m\u001b[0m\n\u001b[0;32m   2821\u001b[0m         \u001b[0mwarnings\u001b[0m\u001b[1;33m.\u001b[0m\u001b[0mwarn\u001b[0m\u001b[1;33m(\u001b[0m\u001b[0mmessage\u001b[0m\u001b[1;33m)\u001b[0m\u001b[1;33m\u001b[0m\u001b[0m\n\u001b[1;32m-> 2822\u001b[1;33m     \u001b[1;32mraise\u001b[0m \u001b[0mIOError\u001b[0m\u001b[1;33m(\u001b[0m\u001b[1;34m\"cannot identify image file %r\"\u001b[0m \u001b[1;33m%\u001b[0m \u001b[1;33m(\u001b[0m\u001b[0mfilename\u001b[0m \u001b[1;32mif\u001b[0m \u001b[0mfilename\u001b[0m \u001b[1;32melse\u001b[0m \u001b[0mfp\u001b[0m\u001b[1;33m)\u001b[0m\u001b[1;33m)\u001b[0m\u001b[1;33m\u001b[0m\u001b[0m\n\u001b[0m\u001b[0;32m   2823\u001b[0m \u001b[1;33m\u001b[0m\u001b[0m\n\u001b[0;32m   2824\u001b[0m \u001b[1;33m\u001b[0m\u001b[0m\n",
      "\u001b[1;31mOSError\u001b[0m: cannot identify image file 'C:\\\\Source\\\\CSIRO\\\\HealthyHabitatAI\\\\data\\\\interim\\\\site-season\\\\2019-11-05-1100\\\\Orthomosaic.geo.tif'"
     ]
    }
   ],
   "source": [
    "for container_name in containers:\n",
    "    if container_name == 'site-season':\n",
    "        blobs = blob_service_list_blobs(healthy_habitat_ai_storage_account_name, healthy_habitat_ai_storage_account_key, container_name)\n",
    "\n",
    "        folders = set([blob.split('/')[0] for blob in blobs])\n",
    "\n",
    "        for folder in folders:\n",
    "            interim_folder_path = os.path.join(Path(os.getcwd()).parent, 'data', 'interim', container_name, folder)\n",
    "            if not os.path.exists(interim_folder_path):\n",
    "                os.makedirs(interim_folder_path)\n",
    "\n",
    "        for blob_name in blobs:\n",
    "            folder = blob_name.split('/')[0]\n",
    "            file = blob_name.split('/')[1]\n",
    "            \n",
    "            filter = \"PartitionKey eq '{0}' and RowKey eq '{1}'\".format(folder, file)\n",
    "            \n",
    "            entities = table_service_query_entities(healthy_habitat_ai_storage_account_name, healthy_habitat_ai_storage_account_key, healthy_habitat_ai_processed_table_name, filter)\n",
    "            \n",
    "            count = len([entity for entity in entities])\n",
    "\n",
    "            if count == 0:\n",
    "                print('Processing {0}'.format(blob_name))\n",
    "                file_path = os.path.join(interim_folder_path, file)\n",
    "\n",
    "                if not os.path.exists(file_path):\n",
    "                    blob_service_get_blob_to_path(healthy_habitat_ai_storage_account_name, healthy_habitat_ai_storage_account_key, container_name, blob_name, file_path)\n",
    "\n",
    "                image = np.array(Image.open(file_path))\n",
    "                image_shape = image.shape\n",
    "\n",
    "                height = 228\n",
    "                width = 304\n",
    "\n",
    "                count = 0\n",
    "\n",
    "                for y in range(0, image_shape[0], height):\n",
    "                    for x in range(0, image_shape[1], width):\n",
    "                        region = image[y:y + height, x:x + width]\n",
    "\n",
    "                        file_name = '{0}_Region_{1}.jpg'.format(file.split('.')[0], count)\n",
    "\n",
    "                        buffer = io.BytesIO()\n",
    "                        Image.fromarray(region).save(buffer, format='JPEG')\n",
    "\n",
    "                        images = []\n",
    "\n",
    "                        images.append(ImageFileCreateEntry(name=file_name, contents=buffer.getvalue()))\n",
    "\n",
    "                        print('Uploading to Classification Project...')\n",
    "                        result = trainer.create_images_from_files(custom_vision_para_grass_project_id, images=images)\n",
    "\n",
    "                        if not result.is_batch_successful:\n",
    "                            for image_create_result in result.images:\n",
    "                                print(\"Image status: \", image_create_result.status)\n",
    "                                \n",
    "                        print('Uploading to Object Detection Project...')\n",
    "                        result = trainer.create_images_from_files(custom_vision_magpie_geese_project_id, images=images)\n",
    "\n",
    "                        if not result.is_batch_successful:\n",
    "                            for image_create_result in result.images:\n",
    "                                print(\"Image status: \", image_create_result.status)\n",
    "\n",
    "                        count += 1\n",
    "\n",
    "                entity = {'PartitionKey': folder, 'RowKey': file}\n",
    "                table_service_insert(healthy_habitat_ai_storage_account_name, healthy_habitat_ai_storage_account_key, healthy_habitat_ai_processed_table_name, entity)\n",
    "                \n",
    "                os.remove(file_path)\n",
    "                print(count)"
   ]
  },
  {
   "cell_type": "code",
   "execution_count": 6,
   "metadata": {},
   "outputs": [
    {
     "ename": "SyntaxError",
     "evalue": "not a TIFF file (header b'II+\\x00\\x08\\x00\\x00\\x00' not valid) (<string>)",
     "output_type": "error",
     "traceback": [
      "Traceback \u001b[1;36m(most recent call last)\u001b[0m:\n",
      "  File \u001b[0;32m\"C:\\Users\\stvanbod\\.conda\\envs\\HealthyHabitat\\lib\\site-packages\\IPython\\core\\interactiveshell.py\"\u001b[0m, line \u001b[0;32m3326\u001b[0m, in \u001b[0;35mrun_code\u001b[0m\n    exec(code_obj, self.user_global_ns, self.user_ns)\n",
      "  File \u001b[0;32m\"<ipython-input-6-c833c6d041a7>\"\u001b[0m, line \u001b[0;32m4\u001b[0m, in \u001b[0;35m<module>\u001b[0m\n    TiffImagePlugin.TiffImageFile(f)\n",
      "  File \u001b[0;32m\"C:\\Users\\stvanbod\\.conda\\envs\\HealthyHabitat\\lib\\site-packages\\PIL\\ImageFile.py\"\u001b[0m, line \u001b[0;32m105\u001b[0m, in \u001b[0;35m__init__\u001b[0m\n    self._open()\n",
      "  File \u001b[0;32m\"C:\\Users\\stvanbod\\.conda\\envs\\HealthyHabitat\\lib\\site-packages\\PIL\\TiffImagePlugin.py\"\u001b[0m, line \u001b[0;32m1004\u001b[0m, in \u001b[0;35m_open\u001b[0m\n    self.tag_v2 = ImageFileDirectory_v2(ifh)\n",
      "\u001b[1;36m  File \u001b[1;32m\"C:\\Users\\stvanbod\\.conda\\envs\\HealthyHabitat\\lib\\site-packages\\PIL\\TiffImagePlugin.py\"\u001b[1;36m, line \u001b[1;32m480\u001b[1;36m, in \u001b[1;35m__init__\u001b[1;36m\u001b[0m\n\u001b[1;33m    raise SyntaxError(\"not a TIFF file (header %r not valid)\" % ifh)\u001b[0m\n",
      "\u001b[1;36m  File \u001b[1;32m\"<string>\"\u001b[1;36m, line \u001b[1;32munknown\u001b[0m\n\u001b[1;31mSyntaxError\u001b[0m\u001b[1;31m:\u001b[0m not a TIFF file (header b'II+\\x00\\x08\\x00\\x00\\x00' not valid)\n"
     ]
    }
   ],
   "source": [
    "from PIL import TiffImagePlugin\n",
    "TiffImagePlugin.DEBUG = True\n",
    "with open('C:\\\\Source\\\\CSIRO\\\\HealthyHabitatAI\\\\data\\\\interim\\\\site-season\\\\2019-11-05-1100\\\\Orthomosaic.geo.tif', 'rb') as f:\n",
    "    TiffImagePlugin.TiffImageFile(f)"
   ]
  },
  {
   "cell_type": "code",
   "execution_count": 2,
   "metadata": {},
   "outputs": [],
   "source": [
    "import tifffile as tiff\n",
    "a = tiff.imread('C:\\\\Users\\\\stvanbod\\\\Downloads\\\\Orthomosaic.geo.tif')"
   ]
  },
  {
   "cell_type": "code",
   "execution_count": 5,
   "metadata": {},
   "outputs": [
    {
     "data": {
      "text/plain": [
       "(36097, 24869, 4)"
      ]
     },
     "execution_count": 5,
     "metadata": {},
     "output_type": "execute_result"
    }
   ],
   "source": [
    "image = np.array(a)\n",
    "image.shape"
   ]
  },
  {
   "cell_type": "code",
   "execution_count": 10,
   "metadata": {},
   "outputs": [
    {
     "ename": "ModuleNotFoundError",
     "evalue": "No module named 'gdal'",
     "output_type": "error",
     "traceback": [
      "\u001b[1;31m---------------------------------------------------------------------------\u001b[0m",
      "\u001b[1;31mModuleNotFoundError\u001b[0m                       Traceback (most recent call last)",
      "\u001b[1;32m<ipython-input-10-ee38efafc30b>\u001b[0m in \u001b[0;36m<module>\u001b[1;34m\u001b[0m\n\u001b[1;32m----> 1\u001b[1;33m \u001b[1;32mimport\u001b[0m \u001b[0mgdal\u001b[0m\u001b[1;33m\u001b[0m\u001b[0m\n\u001b[0m",
      "\u001b[1;31mModuleNotFoundError\u001b[0m: No module named 'gdal'"
     ]
    }
   ],
   "source": [
    "import gdal"
   ]
  },
  {
   "cell_type": "code",
   "execution_count": null,
   "metadata": {},
   "outputs": [],
   "source": [
    "import sys\n",
    "!{sys.executable} -m pip install gdal"
   ]
  },
  {
   "cell_type": "code",
   "execution_count": null,
   "metadata": {
    "scrolled": true
   },
   "outputs": [],
   "source": [
    "tagged_image_count = trainer.get_tagged_image_count(custom_vision_para_grass_project_id)\n",
    "print('Tagged image count:', tagged_image_count)\n",
    "\n",
    "untagged_image_count = trainer.get_untagged_image_count(custom_vision_para_grass_project_id)\n",
    "print('Untagged image count:', untagged_image_count)\n",
    "\n",
    "print('Image count', tagged_image_count + untagged_image_count)"
   ]
  }
 ],
 "metadata": {
  "kernelspec": {
   "display_name": "Python 3",
   "language": "python",
   "name": "python3"
  },
  "language_info": {
   "codemirror_mode": {
    "name": "ipython",
    "version": 3
   },
   "file_extension": ".py",
   "mimetype": "text/x-python",
   "name": "python",
   "nbconvert_exporter": "python",
   "pygments_lexer": "ipython3",
   "version": "3.6.5"
  }
 },
 "nbformat": 4,
 "nbformat_minor": 2
}
