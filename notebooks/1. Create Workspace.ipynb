{
 "cells": [
  {
   "cell_type": "code",
   "execution_count": null,
   "metadata": {},
   "outputs": [],
   "source": [
    "import azureml.core, os\n",
    "print(azureml.core.VERSION)\n",
    "\n",
    "from azureml.core import Workspace\n",
    "\n",
    "from dotenv import load_dotenv"
   ]
  },
  {
   "cell_type": "raw",
   "metadata": {},
   "source": [
    "%%writefile .env\n",
    "SUBSCRIPTION_ID=<Subscription Id>"
   ]
  },
  {
   "cell_type": "code",
   "execution_count": null,
   "metadata": {},
   "outputs": [],
   "source": [
    "load_dotenv('.env')\n",
    "\n",
    "SUBSCRIPTION_ID = os.environ.get(\"SUBSCRIPTION_ID\")"
   ]
  },
  {
   "cell_type": "raw",
   "metadata": {},
   "source": [
    "ws = Workspace.create(name='HealthyHabitatAI',\n",
    "                      subscription_id=SUBSCRIPTION_ID,\n",
    "                      resource_group='HealthyHabitatAI',\n",
    "                      create_resource_group=True,\n",
    "                      location='australiaeast')"
   ]
  },
  {
   "cell_type": "raw",
   "metadata": {},
   "source": [
    "ws = Workspace(subscription_id=SUBSCRIPTION_ID,\n",
    "               resource_group='HealthyHabitatAI',\n",
    "               workspace_name='HealthyHabitatAI')"
   ]
  },
  {
   "cell_type": "code",
   "execution_count": null,
   "metadata": {},
   "outputs": [],
   "source": [
    "ws.get_details()"
   ]
  },
  {
   "cell_type": "code",
   "execution_count": null,
   "metadata": {},
   "outputs": [],
   "source": [
    "ws.write_config()"
   ]
  },
  {
   "cell_type": "code",
   "execution_count": null,
   "metadata": {},
   "outputs": [],
   "source": []
  }
 ],
 "metadata": {
  "kernelspec": {
   "display_name": "Python 3",
   "language": "python",
   "name": "python3"
  },
  "language_info": {
   "codemirror_mode": {
    "name": "ipython",
    "version": 3
   },
   "file_extension": ".py",
   "mimetype": "text/x-python",
   "name": "python",
   "nbconvert_exporter": "python",
   "pygments_lexer": "ipython3",
   "version": "3.6.5"
  }
 },
 "nbformat": 4,
 "nbformat_minor": 2
}
