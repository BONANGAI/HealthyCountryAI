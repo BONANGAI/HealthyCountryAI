{
 "cells": [
  {
   "cell_type": "code",
   "execution_count": 4,
   "metadata": {},
   "outputs": [
    {
     "name": "stdout",
     "output_type": "stream",
     "text": [
      "1.0.39\n"
     ]
    }
   ],
   "source": [
    "import azureml.core, os\n",
    "print(azureml.core.VERSION)\n",
    "\n",
    "from azureml.core import Workspace\n",
    "\n",
    "from dotenv import load_dotenv"
   ]
  },
  {
   "cell_type": "code",
   "execution_count": 2,
   "metadata": {},
   "outputs": [
    {
     "name": "stdout",
     "output_type": "stream",
     "text": [
      "Writing .env\n"
     ]
    }
   ],
   "source": [
    "%%writefile .env\n",
    "SUBSCRIPTION_ID=<Subscription Id>"
   ]
  },
  {
   "cell_type": "code",
   "execution_count": 5,
   "metadata": {},
   "outputs": [],
   "source": [
    "load_dotenv('.env')\n",
    "\n",
    "SUBSCRIPTION_ID = os.environ.get(\"SUBSCRIPTION_ID\")"
   ]
  },
  {
   "cell_type": "code",
   "execution_count": 8,
   "metadata": {},
   "outputs": [
    {
     "name": "stdout",
     "output_type": "stream",
     "text": [
      "Deploying AppInsights with name healthyhinsights80c44288.\n",
      "Deployed AppInsights with name healthyhinsights80c44288.\n",
      "Deploying KeyVault with name healthyhkeyvault9ef015c8.\n",
      "Deploying StorageAccount with name healthyhstorage397d6b4a1.\n",
      "Deployed KeyVault with name healthyhkeyvault9ef015c8.\n",
      "Deployed StorageAccount with name healthyhstorage397d6b4a1.\n",
      "Deploying Workspace with name HealthyHabitat.\n",
      "Deployed Workspace with name HealthyHabitat.\n"
     ]
    }
   ],
   "source": [
    "ws = Workspace.create(name='HealthyHabitat',\n",
    "                      subscription_id=SUBSCRIPTION_ID,\n",
    "                      resource_group='CSIRODemo',\n",
    "                      create_resource_group=False,\n",
    "                      location='australiaeast')"
   ]
  },
  {
   "cell_type": "code",
   "execution_count": 9,
   "metadata": {},
   "outputs": [
    {
     "data": {
      "text/plain": [
       "{'id': '/subscriptions/3191ba83-be2b-4b29-8409-f06e2fbb65bd/resourceGroups/CSIRODemo/providers/Microsoft.MachineLearningServices/workspaces/HealthyHabitat',\n",
       " 'name': 'HealthyHabitat',\n",
       " 'location': 'australiaeast',\n",
       " 'type': 'Microsoft.MachineLearningServices/workspaces',\n",
       " 'workspaceid': 'ebc09b5a-d6ed-42cb-b61d-bcaef86bebe5',\n",
       " 'description': '',\n",
       " 'friendlyName': 'HealthyHabitat',\n",
       " 'creationTime': '2019-07-23T17:23:48.8994437+00:00',\n",
       " 'keyVault': '/subscriptions/3191ba83-be2b-4b29-8409-f06e2fbb65bd/resourcegroups/csirodemo/providers/microsoft.keyvault/vaults/healthyhkeyvault9ef015c8',\n",
       " 'applicationInsights': '/subscriptions/3191ba83-be2b-4b29-8409-f06e2fbb65bd/resourcegroups/csirodemo/providers/microsoft.insights/components/healthyhinsights80c44288',\n",
       " 'identityPrincipalId': 'e9cb5d7d-d5e8-4bb7-8243-00a8ee7a3600',\n",
       " 'identityTenantId': '72f988bf-86f1-41af-91ab-2d7cd011db47',\n",
       " 'identityType': 'SystemAssigned',\n",
       " 'storageAccount': '/subscriptions/3191ba83-be2b-4b29-8409-f06e2fbb65bd/resourcegroups/csirodemo/providers/microsoft.storage/storageaccounts/healthyhstorage397d6b4a1'}"
      ]
     },
     "execution_count": 9,
     "metadata": {},
     "output_type": "execute_result"
    }
   ],
   "source": [
    "ws.get_details()"
   ]
  },
  {
   "cell_type": "code",
   "execution_count": 10,
   "metadata": {},
   "outputs": [],
   "source": [
    "ws.write_config()"
   ]
  }
 ],
 "metadata": {
  "kernelspec": {
   "display_name": "Python 3",
   "language": "python",
   "name": "python3"
  },
  "language_info": {
   "codemirror_mode": {
    "name": "ipython",
    "version": 3
   },
   "file_extension": ".py",
   "mimetype": "text/x-python",
   "name": "python",
   "nbconvert_exporter": "python",
   "pygments_lexer": "ipython3",
   "version": "3.6.5"
  }
 },
 "nbformat": 4,
 "nbformat_minor": 2
}
