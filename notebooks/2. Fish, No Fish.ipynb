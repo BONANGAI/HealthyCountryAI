{
 "cells": [
  {
   "cell_type": "code",
   "execution_count": 1,
   "metadata": {},
   "outputs": [
    {
     "name": "stdout",
     "output_type": "stream",
     "text": [
      "SDK version: 1.0.39\n"
     ]
    }
   ],
   "source": [
    "import ntpath, os\n",
    "import azureml.core\n",
    "print(\"SDK version:\", azureml.core.VERSION)\n",
    "\n",
    "from azureml.core import Datastore, Experiment, ScriptRunConfig, Workspace\n",
    "from azureml.core.compute import AmlCompute\n",
    "from azureml.core.compute import ComputeTarget\n",
    "from azureml.core.conda_dependencies import CondaDependencies\n",
    "from azureml.core.dataset import Dataset\n",
    "from azureml.core.runconfig import DEFAULT_CPU_IMAGE, RunConfiguration\n",
    "from azureml.data.data_reference import DataReference\n",
    "from azureml.pipeline.core import Pipeline, PipelineData\n",
    "from azureml.pipeline.steps import PythonScriptStep\n",
    "from azureml.train.estimator import Estimator\n",
    "from azureml.widgets import RunDetails\n",
    "from pathlib import Path"
   ]
  },
  {
   "cell_type": "code",
   "execution_count": 2,
   "metadata": {},
   "outputs": [
    {
     "data": {
      "text/plain": [
       "'mcr.microsoft.com/azureml/base:intelmpi2018.3-ubuntu16.04'"
      ]
     },
     "execution_count": 2,
     "metadata": {},
     "output_type": "execute_result"
    }
   ],
   "source": [
    "DEFAULT_CPU_IMAGE"
   ]
  },
  {
   "cell_type": "code",
   "execution_count": 3,
   "metadata": {},
   "outputs": [
    {
     "name": "stdout",
     "output_type": "stream",
     "text": [
      "C:\\Source\\CSIRO\\HealthyHabitat\\.env\n",
      "None\n",
      "None\n",
      "azureml-filestore-21584b3f-784b-4ae9-a4a1-547207c1db9f\n"
     ]
    }
   ],
   "source": [
    "%run Common.ipynb"
   ]
  },
  {
   "cell_type": "code",
   "execution_count": 4,
   "metadata": {},
   "outputs": [
    {
     "name": "stderr",
     "output_type": "stream",
     "text": [
      "WARNING - Warning: Falling back to use azure cli login credentials.\n",
      "If you run your code in unattended mode, i.e., where you can't give a user input, then we recommend to use ServicePrincipalAuthentication or MsiAuthentication.\n",
      "Please refer to aka.ms/aml-notebook-auth for different authentication mechanisms in azureml-sdk.\n"
     ]
    },
    {
     "name": "stdout",
     "output_type": "stream",
     "text": [
      "Name: FishyBusiness\n",
      "Resource Group: FishyBusiness\n",
      "Location: australiaeast\n",
      "Subscription Id: 3191ba83-be2b-4b29-8409-f06e2fbb65bd\n"
     ]
    }
   ],
   "source": [
    "ws = Workspace.from_config()\n",
    "print('Name: {0}'.format(ws.name), 'Resource Group: {0}'.format(ws.resource_group), 'Location: {0}'.format(ws.location), 'Subscription Id: {0}'.format(ws.subscription_id), sep = '\\n')"
   ]
  },
  {
   "cell_type": "code",
   "execution_count": 5,
   "metadata": {},
   "outputs": [
    {
     "name": "stdout",
     "output_type": "stream",
     "text": [
      "Found compute target: CPU\n"
     ]
    }
   ],
   "source": [
    "compute_name = 'CPU'\n",
    "\n",
    "if compute_name in ws.compute_targets:\n",
    "    compute_target = ws.compute_targets[compute_name]\n",
    "    \n",
    "    if compute_target and type(compute_target) is AmlCompute:\n",
    "        print('Found compute target: ' + compute_name)\n",
    "else:\n",
    "    provisioning_configuration = AmlCompute.provisioning_configuration(vm_size = 'STANDARD_D2_V2',\n",
    "                                                                min_nodes = 1,\n",
    "                                                                max_nodes = 4)\n",
    "\n",
    "    compute_target = ComputeTarget.create(ws, compute_name, provisioning_configuration)\n",
    "    \n",
    "    compute_target.wait_for_completion(show_output=True, min_node_count=None, timeout_in_minutes=20)\n",
    "    \n",
    "    print(compute_target.status.serialize())"
   ]
  },
  {
   "cell_type": "code",
   "execution_count": 6,
   "metadata": {},
   "outputs": [],
   "source": [
    "default_file_store = Datastore(ws, \"workspacefilestore\")"
   ]
  },
  {
   "cell_type": "code",
   "execution_count": 7,
   "metadata": {},
   "outputs": [
    {
     "name": "stdout",
     "output_type": "stream",
     "text": [
      "C:\\Source\\FishyBusiness\n",
      "C:\\Source\\FishyBusiness\\data\n",
      "C:\\Source\\FishyBusiness\\data\\raw\n",
      "C:\\Source\\FishyBusiness\\src\n",
      "C:\\Source\\FishyBusiness\\tools\n",
      "C:\\Source\\FishyBusiness\\src\\FishOrNoFish\n"
     ]
    }
   ],
   "source": [
    "parent_folder = Path(os.getcwd()).parent\n",
    "print(parent_folder)\n",
    "\n",
    "data_path = os.path.join(parent_folder, 'data')\n",
    "print(data_path)\n",
    "raw_data_path = os.path.join(data_path, 'raw')\n",
    "print(raw_data_path)\n",
    "src_path = os.path.join(parent_folder, 'src')\n",
    "print(src_path)\n",
    "tools_path = os.path.join(parent_folder, 'tools')\n",
    "print(tools_path)\n",
    "\n",
    "source_directory = os.path.join(src_path, 'FishOrNoFish')\n",
    "print(source_directory)"
   ]
  },
  {
   "cell_type": "code",
   "execution_count": null,
   "metadata": {
    "scrolled": true
   },
   "outputs": [],
   "source": [
    "tools_files = []\n",
    "\n",
    "for root, dirs, files in os.walk(tools_path):\n",
    "    for file in files:\n",
    "        tools_files.append(os.path.join(root, file))\n",
    "        \n",
    "default_file_store.upload_files(files=tools_files,\n",
    "                                target_path='tools/ffmpeg-4.1.3-win64-static',\n",
    "                                overwrite=False,\n",
    "                                show_progress=True)"
   ]
  },
  {
   "cell_type": "code",
   "execution_count": null,
   "metadata": {},
   "outputs": [],
   "source": [
    "for root, dirs, files in os.walk(raw_data_path):\n",
    "    for file in files:\n",
    "        if '.MP4' in file and '_VIDEO' not in file and 'Frames' not in root:\n",
    "            file_path = os.path.join(root, file)\n",
    "            video_name = ntpath.basename(file_path)\n",
    "            target_path = os.sep.join(file_path.split(os.sep)[3:-1])\n",
    "            file_or_dirs = file_service_list_directories_and_files(account_name, storage_key, share_name, target_path)\n",
    "            if video_name not in file_or_dirs:\n",
    "                print('Uploading {0}'.format(file_path))\n",
    "                default_file_store.upload_files([file_path], target_path=target_path, show_progress=True)"
   ]
  },
  {
   "cell_type": "markdown",
   "metadata": {},
   "source": [
    "### Pipeline"
   ]
  },
  {
   "cell_type": "code",
   "execution_count": null,
   "metadata": {},
   "outputs": [],
   "source": [
    "path_on_datastore = os.sep.join(raw_data_path.split(os.sep)[3:]).replace('\\\\', '/')\n",
    "\n",
    "raw_data_reference = DataReference(datastore=default_file_store,\n",
    "                                   data_reference_name='raw_data',\n",
    "                                   path_on_datastore=path_on_datastore)"
   ]
  },
  {
   "cell_type": "code",
   "execution_count": null,
   "metadata": {},
   "outputs": [],
   "source": [
    "path_on_datastore = os.sep.join(tools_path.split(os.sep)[3:]).replace('\\\\', '/')\n",
    "\n",
    "tools_reference = DataReference(datastore=default_file_store,\n",
    "                                   data_reference_name='tools',\n",
    "                                   path_on_datastore=path_on_datastore)"
   ]
  },
  {
   "cell_type": "raw",
   "metadata": {},
   "source": [
    "frames_path = os.path.join(target_path, 'Frames')\n",
    "\n",
    "frames_path = frames_path.replace('\\\\', '/')\n",
    "\n",
    "frames = DataReference(datastore=default_file_store,\n",
    "                       data_reference_name='frames_data',\n",
    "                       path_on_datastore=frames_path)"
   ]
  },
  {
   "cell_type": "code",
   "execution_count": null,
   "metadata": {},
   "outputs": [],
   "source": [
    "conda_dependencies = CondaDependencies()\n",
    "conda_dependencies.add_conda_package('opencv')\n",
    "\n",
    "run_configuration = RunConfiguration()\n",
    "run_configuration.environment.docker.enabled = True\n",
    "run_configuration.environment.docker.base_image = DEFAULT_CPU_IMAGE\n",
    "run_configuration.environment.python.user_managed_dependencies = False\n",
    "run_configuration.environment.python.conda_dependencies = conda_dependencies\n",
    "run_configuration.target = compute_target"
   ]
  },
  {
   "cell_type": "code",
   "execution_count": null,
   "metadata": {},
   "outputs": [],
   "source": [
    "extract_video_step = PythonScriptStep(name='extract_video',\n",
    "                                      source_directory=source_directory,\n",
    "                                      script_name='extract_video.py',\n",
    "                                      arguments=['--raw_data_path', raw_data_reference, '--tools_path', tools_reference],\n",
    "                                      inputs=[raw_data_reference, tools_reference],\n",
    "                                      runconfig=run_configuration,\n",
    "                                      allow_reuse=False)"
   ]
  },
  {
   "cell_type": "code",
   "execution_count": null,
   "metadata": {},
   "outputs": [],
   "source": [
    "pipeline = Pipeline(workspace=ws, steps=[extract_video_step])"
   ]
  },
  {
   "cell_type": "code",
   "execution_count": null,
   "metadata": {},
   "outputs": [],
   "source": [
    "pipeline_run = Experiment(ws, 'extract_video').submit(pipeline)\n",
    "pipeline_run"
   ]
  },
  {
   "cell_type": "code",
   "execution_count": null,
   "metadata": {},
   "outputs": [],
   "source": [
    "RunDetails(pipeline_run).show()"
   ]
  },
  {
   "cell_type": "code",
   "execution_count": null,
   "metadata": {
    "scrolled": false
   },
   "outputs": [],
   "source": [
    "pipeline_run.wait_for_completion(show_output=True)"
   ]
  },
  {
   "cell_type": "code",
   "execution_count": null,
   "metadata": {},
   "outputs": [],
   "source": [
    "extract_frames_step = PythonScriptStep(name='extract_frames',\n",
    "                                       source_directory=source_directory,\n",
    "                                       script_name='extract_frames.py',\n",
    "                                       arguments=['--raw_data', videos, '--raw_frames', frames, '--x', 2],\n",
    "                                       inputs=[videos, frames],\n",
    "                                       #outputs=[frames],\n",
    "                                       runconfig=run_configuration,\n",
    "                                       allow_reuse=False)"
   ]
  },
  {
   "cell_type": "code",
   "execution_count": null,
   "metadata": {},
   "outputs": [],
   "source": [
    "pipeline = Pipeline(workspace=ws, steps=[extract_frames_step])"
   ]
  },
  {
   "cell_type": "code",
   "execution_count": null,
   "metadata": {},
   "outputs": [],
   "source": [
    "pipeline_run = Experiment(ws, 'extract_frames').submit(pipeline)\n",
    "pipeline_run"
   ]
  },
  {
   "cell_type": "code",
   "execution_count": null,
   "metadata": {},
   "outputs": [],
   "source": [
    "RunDetails(pipeline_run).show()"
   ]
  },
  {
   "cell_type": "code",
   "execution_count": null,
   "metadata": {},
   "outputs": [],
   "source": [
    "pipeline_run.wait_for_completion(show_output=True)"
   ]
  },
  {
   "cell_type": "code",
   "execution_count": null,
   "metadata": {},
   "outputs": [],
   "source": [
    "children = pipeline_run.get_children()\n",
    "for child in children:\n",
    "    status = child.get_status()\n",
    "    print('Id:', child.id, 'Script:', child.name, 'Status:', status)\n",
    "    RunDetails(child).show()"
   ]
  },
  {
   "cell_type": "code",
   "execution_count": null,
   "metadata": {},
   "outputs": [],
   "source": [
    "import cv2, os\n",
    "\n",
    "top = 'C:\\\\Source\\\\FishyBusiness\\\\data\\\\raw\\\\Channels 2017\\\\Mudginberri 2017\\\\Transect 1\\\\Location 1'\n",
    "frames = 'C:\\\\Source\\\\FishyBusiness\\\\data\\\\raw\\\\Channels 2017\\\\Mudginberri 2017\\\\Transect 1\\\\Location 1\\\\Frames'\n",
    "x = 5"
   ]
  },
  {
   "cell_type": "code",
   "execution_count": null,
   "metadata": {
    "scrolled": false
   },
   "outputs": [],
   "source": [
    "for root, dirs, files in os.walk(top):\n",
    "    for video in files:\n",
    "        if '.MP4' in video:\n",
    "            print(video)\n",
    "            video_path = os.path.join(top, video)\n",
    "            video_capture = cv2.VideoCapture(video_path)\n",
    "\n",
    "            frame_rate = video_capture.get(cv2.CAP_PROP_FPS)\n",
    "            \n",
    "            frame_position = 0\n",
    "            \n",
    "            result, frame = video_capture.read()\n",
    "            \n",
    "            while result:\n",
    "                try:\n",
    "                    frame_path = os.path.join(frames, video + '_frame_%d.jpg' % frame_position)\n",
    "                    \n",
    "                    print('Writing frame %s' % (frame_path))\n",
    "                    cv2.imwrite(frame_path, frame)\n",
    "                    \n",
    "                    frame_position = frame_position + (int(frame_rate) * x)\n",
    "                    print(frame_position)\n",
    "                    \n",
    "                    video_capture.set(cv2.CAP_PROP_POS_FRAMES, frame_position)\n",
    "                    result, frame = video_capture.read()\n",
    "                except Exception as e:\n",
    "                    print(e)\n",
    "            print('Exporting finished.')"
   ]
  },
  {
   "cell_type": "code",
   "execution_count": null,
   "metadata": {},
   "outputs": [],
   "source": [
    "file_paths = []\n",
    "\n",
    "for root, dirs, files in os.walk(top):\n",
    "    for file in files:\n",
    "        if '.MP4' in file and '_VIDEO' not in file and 'Frames' not in root:\n",
    "            file_paths.append(os.path.join(root, file))\n",
    "\n",
    "for file_path in file_paths:\n",
    "    video_name = ntpath.basename(file_path)\n",
    "    print(video_name)\n",
    "    file_parts = video_name.split('.')\n",
    "    print(file_parts)\n",
    "    path_parts = file_path.split(os.sep)[:-1]\n",
    "    print(path_parts)\n",
    "    path_parts.append('{0}_VIDEO.{1}'.format(file_parts[0], file_parts[1]))\n",
    "    out_path = os.sep.join(path_parts)\n",
    "    print(out_path)\n",
    "    ffmpeg_exe_path = os.path.join('..', 'src', 'FishOrNoFish', 'ffmpeg-4.1.3-win64-static', 'bin', 'ffmpeg.exe')\n",
    "    print(ffmpeg_exe_path)\n",
    "    ffmpeg_command = '{0} -loglevel \"verbose\" -i \"{1}\" -c copy -an \"{2}\"'.format(ffmpeg_exe_path, file_path, out_path)\n",
    "    print(ffmpeg_command)\n",
    "    os.system(ffmpeg_command)"
   ]
  },
  {
   "cell_type": "code",
   "execution_count": null,
   "metadata": {},
   "outputs": [],
   "source": []
  }
 ],
 "metadata": {
  "kernelspec": {
   "display_name": "Python 3",
   "language": "python",
   "name": "python3"
  },
  "language_info": {
   "codemirror_mode": {
    "name": "ipython",
    "version": 3
   },
   "file_extension": ".py",
   "mimetype": "text/x-python",
   "name": "python",
   "nbconvert_exporter": "python",
   "pygments_lexer": "ipython3",
   "version": "3.6.5"
  }
 },
 "nbformat": 4,
 "nbformat_minor": 2
}
