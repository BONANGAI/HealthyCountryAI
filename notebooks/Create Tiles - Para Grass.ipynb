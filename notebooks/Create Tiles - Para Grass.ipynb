{
 "cells": [
  {
   "cell_type": "code",
   "execution_count": null,
   "metadata": {
    "scrolled": true
   },
   "outputs": [],
   "source": [
    "%run Common.ipynb"
   ]
  },
  {
   "cell_type": "code",
   "execution_count": null,
   "metadata": {
    "scrolled": true
   },
   "outputs": [],
   "source": [
    "import numpy as np\n",
    "import matplotlib.pyplot as plt\n",
    "\n",
    "from azure.cognitiveservices.vision.customvision.training import CustomVisionTrainingClient\n",
    "from azure.cognitiveservices.vision.customvision.training.models import ImageFileCreateEntry\n",
    "from PIL import Image"
   ]
  },
  {
   "cell_type": "code",
   "execution_count": null,
   "metadata": {
    "scrolled": true
   },
   "outputs": [],
   "source": [
    "%matplotlib inline"
   ]
  },
  {
   "cell_type": "markdown",
   "metadata": {},
   "source": [
    "### Custom Vision"
   ]
  },
  {
   "cell_type": "code",
   "execution_count": null,
   "metadata": {
    "scrolled": true
   },
   "outputs": [],
   "source": [
    "ENDPOINT = 'https://australiaeast.api.cognitive.microsoft.com'\n",
    "\n",
    "trainer = CustomVisionTrainingClient(custom_vision_training_key, endpoint=ENDPOINT)\n",
    "\n",
    "projects = trainer.get_projects()"
   ]
  },
  {
   "cell_type": "markdown",
   "metadata": {},
   "source": [
    "### Blob Storage"
   ]
  },
  {
   "cell_type": "markdown",
   "metadata": {},
   "source": [
    "#### Para Grass Containers - *Site-Season*"
   ]
  },
  {
   "cell_type": "code",
   "execution_count": null,
   "metadata": {
    "scrolled": true
   },
   "outputs": [],
   "source": [
    "para_grass_containers = blob_service_list_containers(healthy_habitat_paragrass_storage_name, healthy_habitat_paragrass_storage_key)\n",
    "\n",
    "for container_name in para_grass_containers:\n",
    "    print(container_name)"
   ]
  },
  {
   "cell_type": "markdown",
   "metadata": {},
   "source": [
    "#### Magpie Geese Containers - *Site-Season*"
   ]
  },
  {
   "cell_type": "code",
   "execution_count": null,
   "metadata": {
    "scrolled": true
   },
   "outputs": [],
   "source": [
    "magpie_geese_containers = blob_service_list_containers(healthy_habitat_animals_storage_name, healthy_habitat_animals_storage_key)\n",
    "\n",
    "for container_name in magpie_geese_containers:\n",
    "    print(container_name)"
   ]
  },
  {
   "cell_type": "markdown",
   "metadata": {},
   "source": [
    "### Create regions"
   ]
  },
  {
   "cell_type": "markdown",
   "metadata": {},
   "source": [
    "#### Para Grass"
   ]
  },
  {
   "cell_type": "code",
   "execution_count": null,
   "metadata": {
    "scrolled": true
   },
   "outputs": [],
   "source": [
    "for container_name in para_grass_containers:\n",
    "    if container_name == 'cannon-hill-bangkerreng':\n",
    "        blobs = blob_service_list_blobs(healthy_habitat_paragrass_storage_name, healthy_habitat_paragrass_storage_key, container_name)\n",
    "        \n",
    "        folders = set([blob.split('/')[0] for blob in blobs])\n",
    "        \n",
    "        for folder in folders:\n",
    "            interim_folder_path = os.path.join(Path(os.getcwd()).parent, 'data', 'interim', container_name, folder)\n",
    "            if not os.path.exists(interim_folder_path):\n",
    "                os.makedirs(interim_folder_path)\n",
    "        \n",
    "        for blob_name in blobs:\n",
    "            folder = blob_name.split('/')[0]\n",
    "            file = blob_name.split('/')[1]\n",
    "            \n",
    "            filter = \"PartitionKey eq '{0}' and RowKey eq '{1}'\".format(folder, file)\n",
    "            \n",
    "            entities = table_service_query_entities(healthy_habitat_paragrass_storage_name, healthy_habitat_paragrass_storage_key, healthy_habitat_paragrass_processed_table_name, filter)\n",
    "            \n",
    "            count = len([entity for entity in entities])\n",
    "\n",
    "            if count == 0:\n",
    "                print('Processing {0}'.format(blob_name))\n",
    "                file_path = os.path.join(interim_folder_path, file)\n",
    "\n",
    "                if not os.path.exists(file_path):\n",
    "                    blob_service_get_blob_to_path(healthy_habitat_paragrass_storage_name, healthy_habitat_paragrass_storage_key, container_name, blob_name, file_path)\n",
    "\n",
    "                image = np.array(Image.open(file_path))\n",
    "                image_shape = image.shape\n",
    "\n",
    "                height = 228\n",
    "                width = 304\n",
    "\n",
    "                count = 0\n",
    "\n",
    "                for y in range(0, image_shape[0], height):\n",
    "                    for x in range(0, image_shape[1], width):\n",
    "                        region = image[y:y + height, x:x + width]\n",
    "\n",
    "                        file_name = '{0}_Region_{1}.jpg'.format(file.split('.')[0], count)\n",
    "\n",
    "                        buffer = io.BytesIO()\n",
    "                        Image.fromarray(region).save(buffer, format='JPEG')\n",
    "\n",
    "                        images = []\n",
    "\n",
    "                        images.append(ImageFileCreateEntry(name=file_name, contents=buffer.getvalue()))\n",
    "\n",
    "                        result = trainer.create_images_from_files(custom_vision_para_grass_project_id, images=images)\n",
    "\n",
    "                        if not result.is_batch_successful:\n",
    "                            for image_create_result in result.images:\n",
    "                                print(\"Image status: \", image_create_result.status)\n",
    "\n",
    "                        count += 1\n",
    "\n",
    "                entity = {'PartitionKey': folder, 'RowKey': file}\n",
    "                table_service_insert(healthy_habitat_paragrass_storage_name, healthy_habitat_paragrass_storage_key, healthy_habitat_paragrass_processed_table_name, entity)\n",
    "                \n",
    "                os.remove(file_path)\n",
    "                print(count)"
   ]
  },
  {
   "cell_type": "code",
   "execution_count": null,
   "metadata": {
    "scrolled": true
   },
   "outputs": [],
   "source": [
    "tagged_image_count = trainer.get_tagged_image_count(custom_vision_para_grass_project_id)\n",
    "print('Tagged image count:', tagged_image_count)\n",
    "\n",
    "untagged_image_count = trainer.get_untagged_image_count(custom_vision_para_grass_project_id)\n",
    "print('Untagged image count:', untagged_image_count)\n",
    "\n",
    "print('Image count', tagged_image_count + untagged_image_count)"
   ]
  },
  {
   "cell_type": "raw",
   "metadata": {},
   "source": [
    "results = trainer.get_untagged_images(custom_vision_para_grass_project_id)\n",
    "while len(results) > 0:\n",
    "    trainer.delete_images(custom_vision_para_grass_project_id, image_ids=[result.id for result in results])\n",
    "    results = trainer.get_untagged_images(custom_vision_para_grass_project_id)"
   ]
  },
  {
   "cell_type": "raw",
   "metadata": {},
   "source": [
    "for container_name in para_grass_containers:\n",
    "    if container_name == 'cannon-hill-bangkerreng':\n",
    "        blobs = blob_service_list_blobs(healthy_habitat_paragrass_storage_name, healthy_habitat_paragrass_storage_key, container_name)\n",
    "        for blob in blobs:\n",
    "            if int(blob.split('/')[1][4:8]) < 323:\n",
    "                entity = {'PartitionKey': blob.split('/')[0], 'RowKey': blob.split('/')[1]}\n",
    "                table_service_insert(healthy_habitat_paragrass_storage_name, healthy_habitat_paragrass_storage_key, healthy_habitat_paragrass_processed_table_name, entity)\n",
    "                print(blob)"
   ]
  },
  {
   "cell_type": "code",
   "execution_count": null,
   "metadata": {
    "scrolled": true
   },
   "outputs": [],
   "source": []
  }
 ],
 "metadata": {
  "kernelspec": {
   "display_name": "Python 3",
   "language": "python",
   "name": "python3"
  },
  "language_info": {
   "codemirror_mode": {
    "name": "ipython",
    "version": 3
   },
   "file_extension": ".py",
   "mimetype": "text/x-python",
   "name": "python",
   "nbconvert_exporter": "python",
   "pygments_lexer": "ipython3",
   "version": "3.6.5"
  }
 },
 "nbformat": 4,
 "nbformat_minor": 2
}
