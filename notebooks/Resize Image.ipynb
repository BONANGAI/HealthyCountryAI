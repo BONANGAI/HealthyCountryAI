{
 "cells": [
  {
   "cell_type": "code",
   "execution_count": 1,
   "metadata": {
    "scrolled": true
   },
   "outputs": [
    {
     "name": "stdout",
     "output_type": "stream",
     "text": [
      "C:\\Source\\CSIRO\\HealthyHabitatAI\\.env\n",
      "healthyhabitatanimals\n",
      "healthyhabitatparragrass\n",
      "ghNvkPl4DYLUUJh55y4pSg3BVV8TtPcHcX96P/zaDPXr9uuREdkGSCaao59d6xfZOfg4l9um1qfBXuNM9VGTTg==\n",
      "jpEJGrFNi6PNLGOOD62rFBxjHGKTR4+DcppQNQQXi3P/GFmINKfqf8EZJoo73doIAnntv03ZSUsAC442IRR87Q==\n",
      "processed\n",
      "processed\n",
      "f8fc2cd4db6b45a59d1ddd69a8685ddd\n",
      "4610573e-864f-4f53-9f6a-c61ce520ed5a\n",
      "5aeb092f-e91d-400f-bd88-e9516b108f20\n"
     ]
    }
   ],
   "source": [
    "%run Common.ipynb"
   ]
  },
  {
   "cell_type": "code",
   "execution_count": 2,
   "metadata": {
    "scrolled": true
   },
   "outputs": [],
   "source": [
    "import numpy as np\n",
    "import matplotlib.pyplot as plt\n",
    "\n",
    "from azure.cognitiveservices.vision.customvision.training import CustomVisionTrainingClient\n",
    "from azure.cognitiveservices.vision.customvision.training.models import ImageFileCreateEntry\n",
    "from PIL import Image, ImageFilter"
   ]
  },
  {
   "cell_type": "code",
   "execution_count": 3,
   "metadata": {
    "scrolled": true
   },
   "outputs": [],
   "source": [
    "%matplotlib inline"
   ]
  },
  {
   "cell_type": "markdown",
   "metadata": {},
   "source": [
    "### Blob Storage"
   ]
  },
  {
   "cell_type": "markdown",
   "metadata": {},
   "source": [
    "#### Para Grass Containers - *Site-Season*"
   ]
  },
  {
   "cell_type": "code",
   "execution_count": 4,
   "metadata": {
    "scrolled": true
   },
   "outputs": [
    {
     "name": "stdout",
     "output_type": "stream",
     "text": [
      "cannon-hill-bangkerreng\n",
      "cannon-hill-kunumeleng\n",
      "cannon-hill-wurrkeng\n",
      "jabiru-dreaming-bangkerreng\n",
      "jabiru-dreaming-kunumeleng\n",
      "jabiru-dreaming-wurrkeng\n",
      "resized\n",
      "ubir-bangkerreng\n",
      "ubir-kunumeleng\n",
      "ubir-wurrkeng\n"
     ]
    }
   ],
   "source": [
    "para_grass_containers = blob_service_list_containers(healthy_habitat_paragrass_storage_name, healthy_habitat_paragrass_storage_key)\n",
    "\n",
    "for container_name in para_grass_containers:\n",
    "    print(container_name)"
   ]
  },
  {
   "cell_type": "markdown",
   "metadata": {},
   "source": [
    "### Resize"
   ]
  },
  {
   "cell_type": "code",
   "execution_count": null,
   "metadata": {
    "scrolled": true
   },
   "outputs": [
    {
     "name": "stdout",
     "output_type": "stream",
     "text": [
      "C:\\Source\\CSIRO\\HealthyHabitatAI\\data\\interim\\ubir-kunumeleng\\2018-12-05-1200\n",
      "Processing 2018-12-05-1200/DJI_0002.JPG\n",
      "Processing 2018-12-05-1200/DJI_0003.JPG\n",
      "Processing 2018-12-05-1200/DJI_0004.JPG\n"
     ]
    }
   ],
   "source": [
    "for container_name in para_grass_containers:\n",
    "    if container_name == 'ubir-kunumeleng':\n",
    "        blobs = blob_service_list_blobs(healthy_habitat_paragrass_storage_name, healthy_habitat_paragrass_storage_key, container_name)\n",
    "        \n",
    "        folders = set([blob.split('/')[0] for blob in blobs])\n",
    "        \n",
    "        for folder in folders:\n",
    "            interim_folder_path = os.path.join(Path(os.getcwd()).parent, 'data', 'interim', container_name, folder)\n",
    "            print(interim_folder_path)\n",
    "            if not os.path.exists(interim_folder_path):\n",
    "                os.makedirs(interim_folder_path)\n",
    "                \n",
    "        for blob_name in blobs:\n",
    "            folder = blob_name.split('/')[0]\n",
    "            file = blob_name.split('/')[1]\n",
    "\n",
    "            # https://docs.microsoft.com/en-us/rest/api/storageservices/understanding-the-table-service-data-model#characters-disallowed-in-key-fields\n",
    "            row_key = '{0}-{1}'.format(folder, file)\n",
    "            \n",
    "            filter = \"PartitionKey eq '{0}' and RowKey eq '{1}'\".format(container_name, row_key)\n",
    "            \n",
    "            entities = table_service_query_entities(healthy_habitat_paragrass_storage_name,\n",
    "                                                    healthy_habitat_paragrass_storage_key,\n",
    "                                                    healthy_habitat_paragrass_processed_table_name,\n",
    "                                                    filter)\n",
    "            \n",
    "            count = len([entity for entity in entities])\n",
    "\n",
    "            if count == 0:\n",
    "                print('Processing {0}'.format(blob_name))\n",
    "                file_path = os.path.join(interim_folder_path, file)\n",
    "\n",
    "                if not os.path.exists(file_path):\n",
    "                    blob_service_get_blob_to_path(healthy_habitat_paragrass_storage_name,\n",
    "                                                  healthy_habitat_paragrass_storage_key,\n",
    "                                                  container_name,\n",
    "                                                  blob_name,\n",
    "                                                  file_path)\n",
    "\n",
    "                edge = 1144\n",
    "                \n",
    "                image = Image.open(file_path)\n",
    "                image = image.crop((0, 0, image.size[1], image.size[1])) #left, upper, right, lower\n",
    "                image = image.resize((edge, edge), resample=Image.LANCZOS)\n",
    "                image = image.filter(ImageFilter.BoxBlur(3))\n",
    "\n",
    "                buffer = io.BytesIO()\n",
    "                image.save(buffer, format='JPEG')\n",
    "\n",
    "                path = '{0}/{1}/{2}'.format(container_name, folder, file)\n",
    "\n",
    "                blob_service_create_blob_from_bytes(healthy_habitat_paragrass_storage_name,\n",
    "                                                    healthy_habitat_paragrass_storage_key,\n",
    "                                                    'resized',\n",
    "                                                    path,\n",
    "                                                    buffer.getvalue())\n",
    "\n",
    "                entity = {'PartitionKey': container_name, 'RowKey': row_key, 'SemanticSegmentation': True}\n",
    "\n",
    "                table_service_insert(healthy_habitat_paragrass_storage_name,\n",
    "                                     healthy_habitat_paragrass_storage_key,\n",
    "                                     healthy_habitat_paragrass_processed_table_name,\n",
    "                                     entity)\n",
    "                \n",
    "                os.remove(file_path)"
   ]
  },
  {
   "cell_type": "code",
   "execution_count": null,
   "metadata": {
    "scrolled": true
   },
   "outputs": [],
   "source": [
    "tagged_image_count = trainer.get_tagged_image_count(custom_vision_para_grass_project_id)\n",
    "print('Tagged image count:', tagged_image_count)\n",
    "\n",
    "untagged_image_count = trainer.get_untagged_image_count(custom_vision_para_grass_project_id)\n",
    "print('Untagged image count:', untagged_image_count)\n",
    "\n",
    "print('Image count', tagged_image_count + untagged_image_count)"
   ]
  }
 ],
 "metadata": {
  "kernelspec": {
   "display_name": "Python 3",
   "language": "python",
   "name": "python3"
  },
  "language_info": {
   "codemirror_mode": {
    "name": "ipython",
    "version": 3
   },
   "file_extension": ".py",
   "mimetype": "text/x-python",
   "name": "python",
   "nbconvert_exporter": "python",
   "pygments_lexer": "ipython3",
   "version": "3.6.5"
  }
 },
 "nbformat": 4,
 "nbformat_minor": 2
}
