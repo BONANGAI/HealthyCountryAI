{
 "cells": [
  {
   "cell_type": "code",
   "execution_count": null,
   "metadata": {},
   "outputs": [],
   "source": [
    "import io, os\n",
    "from dotenv import load_dotenv\n",
    "from pathlib import Path"
   ]
  },
  {
   "cell_type": "code",
   "execution_count": null,
   "metadata": {},
   "outputs": [],
   "source": [
    "env_path = Path(os.getcwd()).parent / '.env'\n",
    "print(env_path)"
   ]
  },
  {
   "cell_type": "code",
   "execution_count": null,
   "metadata": {},
   "outputs": [],
   "source": [
    "load_dotenv(dotenv_path=env_path, verbose=True)"
   ]
  },
  {
   "cell_type": "code",
   "execution_count": null,
   "metadata": {
    "scrolled": true
   },
   "outputs": [],
   "source": [
    "%run AzureStorage.ipynb"
   ]
  },
  {
   "cell_type": "markdown",
   "metadata": {},
   "source": [
    "### Azure Storage"
   ]
  },
  {
   "cell_type": "code",
   "execution_count": null,
   "metadata": {},
   "outputs": [],
   "source": [
    "healthy_habitat_animals_storage_name = 'healthyhabitatanimals'\n",
    "print(healthy_habitat_animals_storage_name)\n",
    "\n",
    "healthy_habitat_paragrass_storage_name = 'healthyhabitatparragrass'\n",
    "print(healthy_habitat_paragrass_storage_name)\n",
    "\n",
    "healthy_habitat_animals_storage_key=os.getenv('HEALTHY_HABITAT_ANIMALS_STORAGE_ACCOUNT_KEY')\n",
    "print(healthy_habitat_animals_storage_key)\n",
    "\n",
    "healthy_habitat_paragrass_storage_key=os.getenv('HEALTHY_HABITAT_PARAGRASS_STORAGE_ACCOUNT_KEY')\n",
    "print(healthy_habitat_paragrass_storage_key)\n",
    "\n",
    "healthy_habitat_animals_processed_table_name = 'processed'\n",
    "print(healthy_habitat_animals_processed_table_name)\n",
    "\n",
    "healthy_habitat_paragrass_processed_table_name = 'processed'\n",
    "print(healthy_habitat_paragrass_processed_table_name)\n",
    "\n",
    "custom_vision_training_key=os.getenv('CUSTOM_VISION_TRAINING_KEY')\n",
    "print(custom_vision_training_key)\n",
    "\n",
    "custom_vision_para_grass_project_id=os.getenv('CUSTOM_VISION_PARA_GRASS_PROJECT_ID')\n",
    "print(custom_vision_para_grass_project_id)\n",
    "\n",
    "custom_vision_magpie_geese_project_id=os.getenv('CUSTOM_VISION_MAGPIE_GEESE_PROJECT_ID')\n",
    "print(custom_vision_magpie_geese_project_id)"
   ]
  },
  {
   "cell_type": "code",
   "execution_count": null,
   "metadata": {},
   "outputs": [],
   "source": []
  }
 ],
 "metadata": {
  "kernelspec": {
   "display_name": "Python 3",
   "language": "python",
   "name": "python3"
  },
  "language_info": {
   "codemirror_mode": {
    "name": "ipython",
    "version": 3
   },
   "file_extension": ".py",
   "mimetype": "text/x-python",
   "name": "python",
   "nbconvert_exporter": "python",
   "pygments_lexer": "ipython3",
   "version": "3.6.5"
  }
 },
 "nbformat": 4,
 "nbformat_minor": 2
}
