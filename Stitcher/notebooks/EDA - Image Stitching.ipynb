{
 "cells": [
  {
   "cell_type": "code",
   "execution_count": 1,
   "metadata": {},
   "outputs": [],
   "source": [
    "import argparse, cv2, imutils, os\n",
    "\n",
    "import numpy as np\n",
    "\n",
    "from imutils import paths"
   ]
  },
  {
   "cell_type": "code",
   "execution_count": 2,
   "metadata": {
    "scrolled": true
   },
   "outputs": [
    {
     "name": "stdout",
     "output_type": "stream",
     "text": [
      "['..\\\\data\\\\interim\\\\frames\\\\2019-08-13-1700\\\\DJI_0001.JPG', '..\\\\data\\\\interim\\\\frames\\\\2019-08-13-1700\\\\DJI_0002.JPG', '..\\\\data\\\\interim\\\\frames\\\\2019-08-13-1700\\\\DJI_0003 - Copy.JPG']\n"
     ]
    }
   ],
   "source": [
    "in_path = os.path.join('..', 'data', 'interim', 'frames', '2019-08-13-1700') # 4Dec18 Ubir Geese\n",
    "out_path = os.path.join('..', 'data', 'interim', 'stitched')\n",
    "\n",
    "image_paths = sorted(list(paths.list_images(in_path)))\n",
    "print(image_paths)\n",
    "\n",
    "images = []\n",
    "\n",
    "for image_path in image_paths:\n",
    "    #if 'DJI_0455' in image_path or 'DJI_0456' in image_path:\n",
    "    image = cv2.imread(image_path)\n",
    "    images.append(image)"
   ]
  },
  {
   "cell_type": "code",
   "execution_count": null,
   "metadata": {},
   "outputs": [],
   "source": [
    "stitcher = cv2.createStitcher() if imutils.is_cv3() else cv2.Stitcher_create()\n",
    "(status, stitched) = stitcher.stitch(images)"
   ]
  },
  {
   "cell_type": "code",
   "execution_count": null,
   "metadata": {},
   "outputs": [],
   "source": [
    "file_name = '{0}.jpg'.format(in_path.split(os.sep)[-1])\n",
    "\n",
    "out_path = os.path.join(out_path, file_name)\n",
    "\n",
    "if status == 0:\n",
    "    cv2.imwrite(out_path, stitched)\n",
    "\n",
    "    cv2.imshow(\"Stitched\", stitched)\n",
    "    cv2.waitKey(0)\n",
    "else:\n",
    "    print(\"[INFO] image stitching failed ({})\".format(status))"
   ]
  },
  {
   "cell_type": "code",
   "execution_count": null,
   "metadata": {},
   "outputs": [],
   "source": []
  }
 ],
 "metadata": {
  "kernelspec": {
   "display_name": "Python 3",
   "language": "python",
   "name": "python3"
  },
  "language_info": {
   "codemirror_mode": {
    "name": "ipython",
    "version": 3
   },
   "file_extension": ".py",
   "mimetype": "text/x-python",
   "name": "python",
   "nbconvert_exporter": "python",
   "pygments_lexer": "ipython3",
   "version": "3.6.5"
  }
 },
 "nbformat": 4,
 "nbformat_minor": 2
}
